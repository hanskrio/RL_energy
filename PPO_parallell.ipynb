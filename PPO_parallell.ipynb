{
 "cells": [
  {
   "cell_type": "code",
   "execution_count": 1,
   "id": "cc27c184-f95a-409e-8cc0-1d6a434c9728",
   "metadata": {},
   "outputs": [],
   "source": [
    "import sys"
   ]
  },
  {
   "cell_type": "code",
   "execution_count": 2,
   "id": "ce309ee1-ee3f-4e39-93a7-967ebeaa6a74",
   "metadata": {},
   "outputs": [
    {
     "name": "stdout",
     "output_type": "stream",
     "text": [
      "Cloning into 'boptestGymService'...\n",
      "remote: Enumerating objects: 4015, done.\u001b[K\n",
      "remote: Counting objects: 100% (569/569), done.\u001b[K9)\u001b[K\n",
      "remote: Compressing objects: 100% (205/205), done.\u001b[K\n",
      "remote: Total 4015 (delta 340), reused 542 (delta 332), pack-reused 3446 (from 1)\u001b[K\n",
      "Receiving objects: 100% (4015/4015), 49.69 MiB | 8.63 MiB/s, done.\n",
      "Resolving deltas: 100% (2134/2134), done.\n"
     ]
    }
   ],
   "source": [
    "try:\n",
    "  !rm -rf boptestGymService\n",
    "except:\n",
    "  pass\n",
    "!git clone -b boptest-gym-service https://github.com/ibpsa/project1-boptest-gym.git boptestGymService"
   ]
  },
  {
   "cell_type": "code",
   "execution_count": 3,
   "id": "b75d0e4a-d026-4d40-90c1-60aa46235590",
   "metadata": {},
   "outputs": [],
   "source": [
    "sys.path.insert(0,'boptestGymService')"
   ]
  },
  {
   "cell_type": "code",
   "execution_count": 6,
   "id": "d00fc962-b4d4-44f1-83d0-15d89b559ee1",
   "metadata": {},
   "outputs": [],
   "source": [
    "import gymnasium as gym\n",
    "import pandas as pd\n",
    "import matplotlib.pyplot as plt\n",
    "import torch\n",
    "\n",
    "from stable_baselines3 import PPO\n",
    "\n",
    "from stable_baselines3.common.vec_env import SubprocVecEnv\n",
    "\n",
    "from stable_baselines3.common.monitor import Monitor\n",
    "from stable_baselines3.common.callbacks import EvalCallback\n",
    "from boptestGymEnv import BoptestGymEnv, NormalizedObservationWrapper"
   ]
  },
  {
   "cell_type": "code",
   "execution_count": 7,
   "id": "ee2a4fac-6bb3-4f45-94f5-14ca7809a7a7",
   "metadata": {},
   "outputs": [],
   "source": [
    "device = torch.device('mps') if torch.backends.mps.is_available() else torch.device('cpu')"
   ]
  },
  {
   "cell_type": "code",
   "execution_count": 8,
   "id": "f2552204-3695-4b59-b9fd-05e07ae3e3c8",
   "metadata": {},
   "outputs": [],
   "source": [
    "# for reproducibility\n",
    "seed = 1337"
   ]
  },
  {
   "cell_type": "code",
   "execution_count": 9,
   "id": "c637a69d-b794-4ef4-acd4-45fd14e59dc7",
   "metadata": {},
   "outputs": [],
   "source": [
    "url = 'https://api.boptest.net'"
   ]
  },
  {
   "cell_type": "code",
   "execution_count": null,
   "id": "42357181-0d66-4b9c-a9ec-1168bd184ce4",
   "metadata": {},
   "outputs": [
    {
     "name": "stderr",
     "output_type": "stream",
     "text": [
      "/Users/hanskrio/opt/miniconda3/envs/boptestgym/lib/python3.10/site-packages/gymnasium/spaces/box.py:130: UserWarning: \u001b[33mWARN: Box bound precision lowered by casting to float32\u001b[0m\n",
      "  gym.logger.warn(f\"Box bound precision lowered by casting to {self.dtype}\")\n",
      "/Users/hanskrio/opt/miniconda3/envs/boptestgym/lib/python3.10/site-packages/gymnasium/spaces/box.py:130: UserWarning: \u001b[33mWARN: Box bound precision lowered by casting to float32\u001b[0m\n",
      "  gym.logger.warn(f\"Box bound precision lowered by casting to {self.dtype}\")\n"
     ]
    },
    {
     "name": "stdout",
     "output_type": "stream",
     "text": [
      "Using mps device\n"
     ]
    }
   ],
   "source": [
    "# Define a function to create environments\n",
    "def make_env():\n",
    "    def _init():\n",
    "        env = BoptestGymEnv(\n",
    "            url=url,\n",
    "            testcase='bestest_hydronic_heat_pump',\n",
    "            actions=['oveHeaPumY_u'],\n",
    "            observations={\n",
    "                'time': (0, 604800),\n",
    "                'reaTZon_y': (280., 310.),\n",
    "                'PriceElectricPowerHighlyDynamic': (-0.4, 0.4),\n",
    "                'LowerSetp[1]': (280., 310.),\n",
    "                'UpperSetp[1]': (280., 310.)\n",
    "            },\n",
    "            predictive_period=24*3600,\n",
    "            regressive_period=6*3600,\n",
    "            random_start_time=True,\n",
    "            max_episode_length=24*3600,\n",
    "            warmup_period=24*3600,\n",
    "            step_period=3600\n",
    "        )\n",
    "        # Normalize observations\n",
    "        env = NormalizedObservationWrapper(env)\n",
    "        return env\n",
    "    return _init\n",
    "\n",
    "# Number of parallel environments\n",
    "num_envs = 2  # Adjust based on your system's capabilities\n",
    "\n",
    "# Create the vectorized environment\n",
    "env = SubprocVecEnv([make_env() for _ in range(num_envs)])\n",
    "\n",
    "# Initialize the RL agent using PPO\n",
    "model = PPO('MlpPolicy', env, verbose=1, device=device)\n",
    "\n",
    "# Train the model\n",
    "model.learn(total_timesteps=1)  # Increase total_timesteps as needed"
   ]
  },
  {
   "cell_type": "code",
   "execution_count": null,
   "id": "9a5e515e-7599-49e6-ab79-38ad3de9233b",
   "metadata": {},
   "outputs": [],
   "source": []
  }
 ],
 "metadata": {
  "kernelspec": {
   "display_name": "Python 3 (ipykernel)",
   "language": "python",
   "name": "python3"
  },
  "language_info": {
   "codemirror_mode": {
    "name": "ipython",
    "version": 3
   },
   "file_extension": ".py",
   "mimetype": "text/x-python",
   "name": "python",
   "nbconvert_exporter": "python",
   "pygments_lexer": "ipython3",
   "version": "3.10.14"
  }
 },
 "nbformat": 4,
 "nbformat_minor": 5
}
