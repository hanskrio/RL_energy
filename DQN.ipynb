{
 "cells": [
  {
   "cell_type": "markdown",
   "id": "afd786b7-0680-4ea6-8b99-0f0ca4b7e74f",
   "metadata": {},
   "source": [
    "\n",
    "#### Setting up the environment and import paths\n"
   ]
  },
  {
   "cell_type": "code",
   "execution_count": 2,
   "id": "68379ff5-667f-4f43-84e3-8ddec0600f47",
   "metadata": {},
   "outputs": [
    {
     "name": "stdout",
     "output_type": "stream",
     "text": [
      "Cloning into 'boptestGymService'...\n",
      "remote: Enumerating objects: 4015, done.\u001b[K\n",
      "remote: Counting objects: 100% (569/569), done.\u001b[K\n",
      "remote: Compressing objects: 100% (205/205), done.\u001b[K\n",
      "remote: Total 4015 (delta 340), reused 542 (delta 332), pack-reused 3446 (from 1)\u001b[K\n",
      "Receiving objects: 100% (4015/4015), 49.69 MiB | 8.03 MiB/s, done.\n",
      "Resolving deltas: 100% (2134/2134), done.\n"
     ]
    }
   ],
   "source": [
    "try:\n",
    "  !rm -rf boptestGymService\n",
    "except:\n",
    "  pass\n",
    "!git clone -b boptest-gym-service https://github.com/ibpsa/project1-boptest-gym.git boptestGymService"
   ]
  },
  {
   "cell_type": "code",
   "execution_count": 3,
   "id": "18cbbf4c-29ff-454f-bdf6-72a896e67ead",
   "metadata": {},
   "outputs": [],
   "source": [
    "sys.path.insert(0,'boptestGymService')"
   ]
  },
  {
   "cell_type": "code",
   "execution_count": 9,
   "id": "65a29f17-aaeb-46f5-806c-86173944f77e",
   "metadata": {},
   "outputs": [],
   "source": [
    "import matplotlib.pyplot as plt\n",
    "import numpy as np\n",
    "import requests\n",
    "import random\n",
    "import sys\n",
    "import torch\n",
    "\n",
    "from boptestGymEnv import BoptestGymEnv, NormalizedObservationWrapper, DiscretizedActionWrapper\n",
    "from stable_baselines3 import DQN"
   ]
  },
  {
   "cell_type": "code",
   "execution_count": 13,
   "id": "3356b61c-e786-41a3-95cd-1fe6b5bd5a6a",
   "metadata": {},
   "outputs": [],
   "source": [
    "# Check if MPS is available\n",
    "# NB! Will only work if you have a M1 Mac w/ a PyTorch version with MPS support. \n",
    "device = torch.device('mps') if torch.backends.mps.is_available() else torch.device('cpu')"
   ]
  },
  {
   "cell_type": "code",
   "execution_count": 6,
   "id": "8babe017-d833-48b5-82a7-334a3cd255e3",
   "metadata": {},
   "outputs": [],
   "source": [
    "# for reproducibility\n",
    "seed = 1337"
   ]
  },
  {
   "cell_type": "code",
   "execution_count": 7,
   "id": "ac96d24d-767a-4077-8ca1-2f37373e6c9c",
   "metadata": {},
   "outputs": [],
   "source": [
    "url = 'https://api.boptest.net'"
   ]
  },
  {
   "cell_type": "markdown",
   "id": "6447c686-afee-4b6e-ae1f-8034e56da526",
   "metadata": {},
   "source": [
    "#### DQN init and train"
   ]
  },
  {
   "cell_type": "code",
   "execution_count": 14,
   "id": "fc7c01f1-bb8c-4f59-be35-52d53c516d88",
   "metadata": {},
   "outputs": [
    {
     "name": "stderr",
     "output_type": "stream",
     "text": [
      "/Users/hanskrio/opt/miniconda3/envs/boptestgym/lib/python3.10/site-packages/gymnasium/spaces/box.py:130: UserWarning: \u001b[33mWARN: Box bound precision lowered by casting to float32\u001b[0m\n",
      "  gym.logger.warn(f\"Box bound precision lowered by casting to {self.dtype}\")\n"
     ]
    },
    {
     "name": "stdout",
     "output_type": "stream",
     "text": [
      "Using mps device\n",
      "Wrapping the env with a `Monitor` wrapper\n",
      "Wrapping the env in a DummyVecEnv.\n",
      "----------------------------------\n",
      "| rollout/            |          |\n",
      "|    ep_len_mean      | 24       |\n",
      "|    ep_rew_mean      | -7.39    |\n",
      "|    exploration_rate | 0.05     |\n",
      "| time/               |          |\n",
      "|    episodes         | 4        |\n",
      "|    fps              | 0        |\n",
      "|    time_elapsed     | 379      |\n",
      "|    total_timesteps  | 96       |\n",
      "| train/              |          |\n",
      "|    learning_rate    | 0.0005   |\n",
      "|    loss             | 0.294    |\n",
      "|    n_updates        | 71       |\n",
      "----------------------------------\n"
     ]
    },
    {
     "data": {
      "text/plain": [
       "{'tdis_tot': 37.15312778581881,\n",
       " 'idis_tot': 0,\n",
       " 'ener_tot': 0.4643638858761871,\n",
       " 'cost_tot': 0.11771624506961344,\n",
       " 'emis_tot': 0.07754876894132326,\n",
       " 'pele_tot': 0.02370474504325742,\n",
       " 'pgas_tot': None,\n",
       " 'pdih_tot': None,\n",
       " 'time_rat': 0.0010514094708142458}"
      ]
     },
     "execution_count": 14,
     "metadata": {},
     "output_type": "execute_result"
    }
   ],
   "source": [
    "env = BoptestGymEnv(\n",
    "        url                  = url,\n",
    "        testcase             = 'bestest_hydronic_heat_pump',\n",
    "        actions              = ['oveHeaPumY_u'],\n",
    "        observations         = {'time':(0,604800),\n",
    "                                'reaTZon_y':(280.,310.),\n",
    "                                'TDryBul':(265,303),\n",
    "                                'HDirNor':(0,862),\n",
    "                                'InternalGainsRad[1]':(0,219),\n",
    "                                'PriceElectricPowerHighlyDynamic':(-0.4,0.4),\n",
    "                                'LowerSetp[1]':(280.,310.),\n",
    "                                'UpperSetp[1]':(280.,310.)},\n",
    "        predictive_period    = 24*3600,\n",
    "        regressive_period    = 6*3600,\n",
    "        random_start_time    = True,\n",
    "        max_episode_length   = 24*3600,\n",
    "        warmup_period        = 24*3600,\n",
    "        step_period          = 3600)\n",
    "\n",
    "# Normalize observations and discretize action space\n",
    "env = NormalizedObservationWrapper(env)\n",
    "env = DiscretizedActionWrapper(env,n_bins_act=10)\n",
    "\n",
    "# Instantiate an RL agent\n",
    "model = DQN('MlpPolicy', env, device=device, verbose=1, gamma=0.99,\n",
    "            learning_rate=5e-4, batch_size=24, seed=123456,\n",
    "            buffer_size=365*24, learning_starts=24, train_freq=1)\n",
    "\n",
    "# Main training loop\n",
    "model.learn(total_timesteps=100)\n",
    "\n",
    "# Loop for one episode of experience (one day as set in max_episode_length)\n",
    "done = False\n",
    "obs, _ = env.reset()\n",
    "while not done:\n",
    "  action, _ = model.predict(obs, deterministic=True)\n",
    "  obs,reward,terminated,truncated,info = env.step(action)\n",
    "  done = (terminated or truncated)\n",
    "\n",
    "# Obtain KPIs for evaluation\n",
    "env.get_kpis()"
   ]
  },
  {
   "cell_type": "code",
   "execution_count": null,
   "id": "aa988274-49a0-41cf-89f0-9cfadc10cb30",
   "metadata": {},
   "outputs": [],
   "source": []
  }
 ],
 "metadata": {
  "kernelspec": {
   "display_name": "Python 3 (ipykernel)",
   "language": "python",
   "name": "python3"
  },
  "language_info": {
   "codemirror_mode": {
    "name": "ipython",
    "version": 3
   },
   "file_extension": ".py",
   "mimetype": "text/x-python",
   "name": "python",
   "nbconvert_exporter": "python",
   "pygments_lexer": "ipython3",
   "version": "3.10.14"
  }
 },
 "nbformat": 4,
 "nbformat_minor": 5
}
