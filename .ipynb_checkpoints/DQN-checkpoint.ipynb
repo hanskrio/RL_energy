{
 "cells": [
  {
   "cell_type": "code",
   "execution_count": null,
   "id": "68379ff5-667f-4f43-84e3-8ddec0600f47",
   "metadata": {},
   "outputs": [],
   "source": [
    "try:\n",
    "  !rm -rf boptestGymService\n",
    "except:\n",
    "  pass\n",
    "!git clone -b boptest-gym-service https://github.com/ibpsa/project1-boptest-gym.git boptestGymService"
   ]
  },
  {
   "cell_type": "code",
   "execution_count": 7,
   "id": "65a29f17-aaeb-46f5-806c-86173944f77e",
   "metadata": {},
   "outputs": [
    {
     "ename": "ModuleNotFoundError",
     "evalue": "No module named 'examples'",
     "output_type": "error",
     "traceback": [
      "\u001b[0;31m---------------------------------------------------------------------------\u001b[0m",
      "\u001b[0;31mModuleNotFoundError\u001b[0m                       Traceback (most recent call last)",
      "Cell \u001b[0;32mIn[7], line 7\u001b[0m\n\u001b[1;32m      4\u001b[0m \u001b[38;5;28;01mimport\u001b[39;00m \u001b[38;5;21;01mrandom\u001b[39;00m\n\u001b[1;32m      5\u001b[0m \u001b[38;5;28;01mimport\u001b[39;00m \u001b[38;5;21;01msys\u001b[39;00m\n\u001b[0;32m----> 7\u001b[0m \u001b[38;5;28;01mfrom\u001b[39;00m \u001b[38;5;21;01mboptestGymEnv\u001b[39;00m \u001b[38;5;28;01mimport\u001b[39;00m BoptestGymEnv\n\u001b[1;32m      8\u001b[0m \u001b[38;5;28;01mfrom\u001b[39;00m \u001b[38;5;21;01mboptestGymEnv\u001b[39;00m \u001b[38;5;28;01mimport\u001b[39;00m BoptestGymEnv, NormalizedObservationWrapper, DiscretizedActionWrapper\n\u001b[1;32m      9\u001b[0m \u001b[38;5;28;01mfrom\u001b[39;00m \u001b[38;5;21;01mstable_baselines3\u001b[39;00m \u001b[38;5;28;01mimport\u001b[39;00m DQN\n",
      "File \u001b[0;32m~/Desktop/NTNU/Prosjektoppgave/code/RL_energy/boptestGymEnv.py:19\u001b[0m\n\u001b[1;32m     16\u001b[0m \u001b[38;5;28;01mfrom\u001b[39;00m \u001b[38;5;21;01mstable_baselines3\u001b[39;00m\u001b[38;5;21;01m.\u001b[39;00m\u001b[38;5;21;01mcommon\u001b[39;00m\u001b[38;5;21;01m.\u001b[39;00m\u001b[38;5;21;01mresults_plotter\u001b[39;00m \u001b[38;5;28;01mimport\u001b[39;00m load_results, ts2xy\n\u001b[1;32m     17\u001b[0m \u001b[38;5;28;01mfrom\u001b[39;00m \u001b[38;5;21;01mstable_baselines3\u001b[39;00m\u001b[38;5;21;01m.\u001b[39;00m\u001b[38;5;21;01mcommon\u001b[39;00m\u001b[38;5;21;01m.\u001b[39;00m\u001b[38;5;21;01mcallbacks\u001b[39;00m \u001b[38;5;28;01mimport\u001b[39;00m BaseCallback\n\u001b[0;32m---> 19\u001b[0m \u001b[38;5;28;01mfrom\u001b[39;00m \u001b[38;5;21;01mexamples\u001b[39;00m\u001b[38;5;21;01m.\u001b[39;00m\u001b[38;5;21;01mtest_and_plot\u001b[39;00m \u001b[38;5;28;01mimport\u001b[39;00m plot_results, test_agent\n\u001b[1;32m     21\u001b[0m \u001b[38;5;28;01mclass\u001b[39;00m \u001b[38;5;21;01mBoptestGymEnv\u001b[39;00m(gym\u001b[38;5;241m.\u001b[39mEnv):\n\u001b[1;32m     22\u001b[0m \u001b[38;5;250m    \u001b[39m\u001b[38;5;124;03m'''\u001b[39;00m\n\u001b[1;32m     23\u001b[0m \u001b[38;5;124;03m    BOPTEST Environment that follows gym interface.\u001b[39;00m\n\u001b[1;32m     24\u001b[0m \u001b[38;5;124;03m    This environment allows the interaction of RL agents with building\u001b[39;00m\n\u001b[1;32m     25\u001b[0m \u001b[38;5;124;03m    emulator models from BOPTEST. \u001b[39;00m\n\u001b[1;32m     26\u001b[0m \u001b[38;5;124;03m     \u001b[39;00m\n\u001b[1;32m     27\u001b[0m \u001b[38;5;124;03m    '''\u001b[39;00m\n",
      "\u001b[0;31mModuleNotFoundError\u001b[0m: No module named 'examples'"
     ]
    }
   ],
   "source": [
    "import matplotlib.pyplot as plt\n",
    "import numpy as np\n",
    "import requests\n",
    "import random\n",
    "import sys\n",
    "\n",
    "from boptestGymEnv import BoptestGymEnv, NormalizedObservationWrapper, DiscretizedActionWrapper\n",
    "from stable_baselines3 import DQN"
   ]
  },
  {
   "cell_type": "code",
   "execution_count": 8,
   "id": "8babe017-d833-48b5-82a7-334a3cd255e3",
   "metadata": {},
   "outputs": [],
   "source": [
    "seed = 123456\n",
    "random.seed(seed)\n",
    "np.random.seed(seed)"
   ]
  },
  {
   "cell_type": "code",
   "execution_count": 9,
   "id": "ac96d24d-767a-4077-8ca1-2f37373e6c9c",
   "metadata": {},
   "outputs": [],
   "source": [
    "url = 'https://api.boptest.net'"
   ]
  },
  {
   "cell_type": "code",
   "execution_count": 4,
   "id": "db47092e-2088-4490-830c-36d0ef0549ef",
   "metadata": {},
   "outputs": [
    {
     "name": "stdout",
     "output_type": "stream",
     "text": [
      "Cloning into 'boptestGymService'...\n",
      "remote: Enumerating objects: 4015, done.\u001b[K\n",
      "remote: Counting objects: 100% (569/569), done.\u001b[K\n",
      "remote: Compressing objects: 100% (205/205), done.\u001b[K\n",
      "remote: Total 4015 (delta 340), reused 542 (delta 332), pack-reused 3446 (from 1)\u001b[K\n",
      "Receiving objects: 100% (4015/4015), 49.69 MiB | 8.00 MiB/s, done.\n",
      "Resolving deltas: 100% (2134/2134), done.\n"
     ]
    }
   ],
   "source": []
  },
  {
   "cell_type": "code",
   "execution_count": null,
   "id": "057ba4a5-2d32-46b0-be82-c16bb64b17f2",
   "metadata": {},
   "outputs": [],
   "source": []
  }
 ],
 "metadata": {
  "kernelspec": {
   "display_name": "Python 3 (ipykernel)",
   "language": "python",
   "name": "python3"
  },
  "language_info": {
   "codemirror_mode": {
    "name": "ipython",
    "version": 3
   },
   "file_extension": ".py",
   "mimetype": "text/x-python",
   "name": "python",
   "nbconvert_exporter": "python",
   "pygments_lexer": "ipython3",
   "version": "3.10.14"
  }
 },
 "nbformat": 4,
 "nbformat_minor": 5
}
